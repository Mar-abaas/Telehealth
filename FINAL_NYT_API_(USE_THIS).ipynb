{
  "cells": [
    {
      "cell_type": "code",
      "execution_count": 1,
      "metadata": {
        "id": "BDE2pj80Lhn7"
      },
      "outputs": [],
      "source": [
        "## Imports\n",
        "import urllib\n",
        "import json\n",
        "import time\n",
        "import matplotlib.pyplot as plt\n",
        "import pandas as pd\n",
        "import numpy as np\n",
        "import urllib"
      ]
    },
    {
      "cell_type": "code",
      "execution_count": 2,
      "metadata": {
        "id": "FtBXz0WLMecr"
      },
      "outputs": [],
      "source": [
        "## Set-up values\n",
        "baseurl=\"https://api.nytimes.com/svc/search/v2/articlesearch.json?\"\n",
        "apikey=\"gwJhSHA0BgoYSkQwwi0xq8mu4sEfNdnd\""
      ]
    },
    {
      "cell_type": "code",
      "execution_count": 3,
      "metadata": {
        "id": "j9bBt9arM4jo"
      },
      "outputs": [],
      "source": [
        "## Creating Lists (Final Lists)\n",
        "date_params = [\"2020-01-01\", \"2020-03-31\", \"2020-04-01\", \"2020-06-30\", \"2020-07-01\", \"2020-09-30\", \"2020-10-01\", \"2020-12-31\",\n",
        "               \"2021-01-01\", \"2021-03-31\", \"2021-04-01\", \"2021-06-30\", \"2021-07-01\", \"2021-09-30\", \"2021-10-01\", \"2021-12-31\",\n",
        "               \"2022-01-01\", \"2022-03-31\", \"2022-04-01\", \"2022-06-30\", \"2022-07-01\", \"2022-09-30\", \"2022-10-01\", \"2022-12-31\",\n",
        "               \"2023-01-01\", \"2023-03-31\", \"2023-04-01\", \"2023-06-30\", \"2023-07-01\", \"2023-09-30\", \"2023-10-01\", \"2023-12-31\",\n",
        "               \"2024-01-01\", \"2024-03-31\", \"2024-04-01\", \"2024-06-30\", \"2024-07-01\", \"2024-09-30\", \"2024-10-01\", \"2024-12-31\"]\n",
        "\n",
        "## Split into 5 so it can be run in separate chunks\n",
        "states1 = [\"Alabama\", \"Alaska\", \"Arizona\", \"Arkansas\", \"California\", \"Colorado\", \"Connecticut\", \"Delaware\", \"District of Columbia\", \"Florida\"]\n",
        "states2 = [\"Georgia\", \"Hawaii\", \"Idaho\", \"Illinois\", \"Indiana\", \"Iowa\", \"Kansas\", \"Kentucky\", \"Louisiana\", \"Maine\"]\n",
        "states3 = [\"Maryland\", \"Massachusetts\", \"Michigan\", \"Minnesota\", \"Mississippi\", \"Missouri\", \"Montana\", \"Nebraska\", \"Nevada\", \"New Hampshire\"]\n",
        "states4 = [\"New Jersey\", \"New Mexico\", \"New York\", \"North Carolina\", \"North Dakota\", \"Ohio\", \"Oklahoma\", \"Oregon\", \"Pennsylvania\", \"Rhode Island\"]\n",
        "states5 = [\"South Carolina\", \"South Dakota\", \"Tennessee\", \"Texas\", \"Utah\", \"Vermont\", \"Virginia\", \"Washington\", \"West Virginia\", \"Wisconsin\", \"Wyoming\"]\n",
        "\n",
        "years = [2020, 2021, 2022, 2023, 2024]\n",
        "quarters = [\"Q1\", \"\", \"Q2\", \"\", \"Q3\", \"\", \"Q4\", \"\"]\n",
        "year_strings = [\"2020\", \"2021\", \"2022\", \"2023\", \"2024\"]\n",
        "quarter_dates = [\"-01-01\", \"-03-31\", \"-04-01\", \"-06-30\", \"-07-01\", \"-09-30\", \"-10-01\", \"-12-31\"]"
      ]
    },
    {
      "cell_type": "markdown",
      "source": [
        "# Run everything above this cell before running any cells below"
      ],
      "metadata": {
        "id": "4bSK09N2jGvn"
      }
    },
    {
      "cell_type": "code",
      "execution_count": 7,
      "metadata": {
        "colab": {
          "base_uri": "https://localhost:8080/",
          "height": 245
        },
        "id": "6njufIsuSY0e",
        "outputId": "f4397a1a-c46d-4e34-c545-53d8152a7856"
      },
      "outputs": [
        {
          "output_type": "stream",
          "name": "stdout",
          "text": [
            "Alabama 2020 Q1\n",
            "Alabama 2020 Q2\n"
          ]
        },
        {
          "output_type": "error",
          "ename": "KeyboardInterrupt",
          "evalue": "",
          "traceback": [
            "\u001b[0;31m---------------------------------------------------------------------------\u001b[0m",
            "\u001b[0;31mKeyboardInterrupt\u001b[0m                         Traceback (most recent call last)",
            "\u001b[0;32m<ipython-input-7-861fab8b1217>\u001b[0m in \u001b[0;36m<cell line: 4>\u001b[0;34m()\u001b[0m\n\u001b[1;32m     27\u001b[0m           \u001b[0mdf\u001b[0m\u001b[0;34m.\u001b[0m\u001b[0mloc\u001b[0m\u001b[0;34m[\u001b[0m\u001b[0mlen\u001b[0m\u001b[0;34m(\u001b[0m\u001b[0mdf\u001b[0m\u001b[0;34m.\u001b[0m\u001b[0mindex\u001b[0m\u001b[0;34m)\u001b[0m\u001b[0;34m]\u001b[0m \u001b[0;34m=\u001b[0m \u001b[0mnew_row\u001b[0m\u001b[0;34m\u001b[0m\u001b[0;34m\u001b[0m\u001b[0m\n\u001b[1;32m     28\u001b[0m       \u001b[0mprint\u001b[0m\u001b[0;34m(\u001b[0m\u001b[0mstate\u001b[0m\u001b[0;34m,\u001b[0m \u001b[0myears\u001b[0m\u001b[0;34m[\u001b[0m\u001b[0myear\u001b[0m\u001b[0;34m]\u001b[0m\u001b[0;34m,\u001b[0m \u001b[0mquarters\u001b[0m\u001b[0;34m[\u001b[0m\u001b[0mquarter_iter\u001b[0m\u001b[0;34m]\u001b[0m\u001b[0;34m)\u001b[0m\u001b[0;34m\u001b[0m\u001b[0;34m\u001b[0m\u001b[0m\n\u001b[0;32m---> 29\u001b[0;31m       \u001b[0mtime\u001b[0m\u001b[0;34m.\u001b[0m\u001b[0msleep\u001b[0m\u001b[0;34m(\u001b[0m\u001b[0;36m12\u001b[0m\u001b[0;34m)\u001b[0m\u001b[0;34m\u001b[0m\u001b[0;34m\u001b[0m\u001b[0m\n\u001b[0m\u001b[1;32m     30\u001b[0m \u001b[0;34m\u001b[0m\u001b[0m\n\u001b[1;32m     31\u001b[0m \u001b[0mprint\u001b[0m\u001b[0;34m(\u001b[0m\u001b[0;34m\"Done\"\u001b[0m\u001b[0;34m)\u001b[0m\u001b[0;34m\u001b[0m\u001b[0;34m\u001b[0m\u001b[0m\n",
            "\u001b[0;31mKeyboardInterrupt\u001b[0m: "
          ]
        }
      ],
      "source": [
        "## API Search Code 1\n",
        "df = pd.DataFrame({\"State\": [],\"Year\": [], \"Quarter\": [], \"Text\": []})\n",
        "\n",
        "for state in states1:\n",
        "  for year in range(0, len(year_strings)):\n",
        "    for quarter_iter in range(0, len(quarter_dates), 2):\n",
        "      pa={\"api-key\":apikey, \"q\":\"Health, \" + state, \"begin_date\":year_strings[year] + quarter_dates[quarter_iter], \"end_date\":year_strings[year] + quarter_dates[quarter_iter + 1], \"page\": 1}\n",
        "      url2check = baseurl + urllib.parse.urlencode(pa)\n",
        "      result = urllib.request.urlopen(url2check).read()\n",
        "      resd = json.loads(result)\n",
        "      if len(resd['response']['docs']) < 10:\n",
        "        hit_num = len(resd['response']['docs'])\n",
        "      else:\n",
        "        hit_num = 10\n",
        "\n",
        "      if hit_num == 0:\n",
        "        new_empty_row = [state, years[year], quarters[quarter_iter], \"\"]\n",
        "        #print(new_empty_row)\n",
        "        df.loc[len(df.index)] = new_empty_row\n",
        "      else:\n",
        "        for i in range(0, hit_num):\n",
        "          abstract = resd['response']['docs'][i][\"abstract\"]\n",
        "          lead_paragraph = resd['response']['docs'][i][\"lead_paragraph\"]\n",
        "          combined_text = abstract + \" \" + lead_paragraph\n",
        "          new_row = [state, years[year], quarters[quarter_iter], combined_text]\n",
        "          #print(new_row)\n",
        "          df.loc[len(df.index)] = new_row\n",
        "      print(state, years[year], quarters[quarter_iter])\n",
        "      time.sleep(12)\n",
        "\n",
        "df.to_csv('list1.csv', index=False)\n",
        "print(\"Done\")\n",
        "\n",
        "## 40 minutes to run\n",
        "## DOWNLOAD THE CSVs AND UPLOAD TO GITHUB SO YOU DON'T HAVE TO RUN IT AGAIN"
      ]
    },
    {
      "cell_type": "code",
      "source": [
        "## API Search Code 2\n",
        "df = pd.DataFrame({\"State\": [],\"Year\": [], \"Quarter\": [], \"Text\": []})\n",
        "\n",
        "for state in states1:\n",
        "  for year in range(0, len(year_strings)):\n",
        "    for quarter_iter in range(0, len(quarter_dates), 2):\n",
        "      pa={\"api-key\":apikey, \"q\":\"Health, \" + state, \"begin_date\":year_strings[year] + quarter_dates[quarter_iter], \"end_date\":year_strings[year] + quarter_dates[quarter_iter + 1], \"page\": 1}\n",
        "      url2check = baseurl + urllib.parse.urlencode(pa)\n",
        "      result = urllib.request.urlopen(url2check).read()\n",
        "      resd = json.loads(result)\n",
        "      if len(resd['response']['docs']) < 10:\n",
        "        hit_num = len(resd['response']['docs'])\n",
        "      else:\n",
        "        hit_num = 10\n",
        "\n",
        "      if hit_num == 0:\n",
        "        new_empty_row = [state, years[year], quarters[quarter_iter], \"\"]\n",
        "        #print(new_empty_row)\n",
        "        df.loc[len(df.index)] = new_empty_row\n",
        "      else:\n",
        "        for i in range(0, hit_num):\n",
        "          abstract = resd['response']['docs'][i][\"abstract\"]\n",
        "          lead_paragraph = resd['response']['docs'][i][\"lead_paragraph\"]\n",
        "          combined_text = abstract + \" \" + lead_paragraph\n",
        "          new_row = [state, years[year], quarters[quarter_iter], combined_text]\n",
        "          #print(new_row)\n",
        "          df.loc[len(df.index)] = new_row\n",
        "      print(state, years[year], quarters[quarter_iter])\n",
        "      time.sleep(12)\n",
        "\n",
        "df.to_csv('list2.csv', index=False)\n",
        "print(\"Done\")\n",
        "\n",
        "## 40 minutes to run\n",
        "## DOWNLOAD THE CSVs AND UPLOAD TO GITHUB SO YOU DON'T HAVE TO RUN IT AGAIN"
      ],
      "metadata": {
        "id": "BsW4nvbsh6RW"
      },
      "execution_count": null,
      "outputs": []
    },
    {
      "cell_type": "code",
      "source": [
        "## API Search Code 3\n",
        "df = pd.DataFrame({\"State\": [],\"Year\": [], \"Quarter\": [], \"Text\": []})\n",
        "\n",
        "for state in states1:\n",
        "  for year in range(0, len(year_strings)):\n",
        "    for quarter_iter in range(0, len(quarter_dates), 2):\n",
        "      pa={\"api-key\":apikey, \"q\":\"Health, \" + state, \"begin_date\":year_strings[year] + quarter_dates[quarter_iter], \"end_date\":year_strings[year] + quarter_dates[quarter_iter + 1], \"page\": 1}\n",
        "      url2check = baseurl + urllib.parse.urlencode(pa)\n",
        "      result = urllib.request.urlopen(url2check).read()\n",
        "      resd = json.loads(result)\n",
        "      if len(resd['response']['docs']) < 10:\n",
        "        hit_num = len(resd['response']['docs'])\n",
        "      else:\n",
        "        hit_num = 10\n",
        "\n",
        "      if hit_num == 0:\n",
        "        new_empty_row = [state, years[year], quarters[quarter_iter], \"\"]\n",
        "        #print(new_empty_row)\n",
        "        df.loc[len(df.index)] = new_empty_row\n",
        "      else:\n",
        "        for i in range(0, hit_num):\n",
        "          abstract = resd['response']['docs'][i][\"abstract\"]\n",
        "          lead_paragraph = resd['response']['docs'][i][\"lead_paragraph\"]\n",
        "          combined_text = abstract + \" \" + lead_paragraph\n",
        "          new_row = [state, years[year], quarters[quarter_iter], combined_text]\n",
        "          #print(new_row)\n",
        "          df.loc[len(df.index)] = new_row\n",
        "      print(state, years[year], quarters[quarter_iter])\n",
        "      time.sleep(12)\n",
        "\n",
        "df.to_csv('list3.csv', index=False)\n",
        "print(\"Done\")\n",
        "\n",
        "## 40 minutes to run\n",
        "## DOWNLOAD THE CSVs AND UPLOAD TO GITHUB SO YOU DON'T HAVE TO RUN IT AGAIN"
      ],
      "metadata": {
        "id": "I0TDiNJliYid"
      },
      "execution_count": null,
      "outputs": []
    },
    {
      "cell_type": "code",
      "source": [
        "## API Search Code 4\n",
        "df = pd.DataFrame({\"State\": [],\"Year\": [], \"Quarter\": [], \"Text\": []})\n",
        "\n",
        "for state in states1:\n",
        "  for year in range(0, len(year_strings)):\n",
        "    for quarter_iter in range(0, len(quarter_dates), 2):\n",
        "      pa={\"api-key\":apikey, \"q\":\"Health, \" + state, \"begin_date\":year_strings[year] + quarter_dates[quarter_iter], \"end_date\":year_strings[year] + quarter_dates[quarter_iter + 1], \"page\": 1}\n",
        "      url2check = baseurl + urllib.parse.urlencode(pa)\n",
        "      result = urllib.request.urlopen(url2check).read()\n",
        "      resd = json.loads(result)\n",
        "      if len(resd['response']['docs']) < 10:\n",
        "        hit_num = len(resd['response']['docs'])\n",
        "      else:\n",
        "        hit_num = 10\n",
        "\n",
        "      if hit_num == 0:\n",
        "        new_empty_row = [state, years[year], quarters[quarter_iter], \"\"]\n",
        "        #print(new_empty_row)\n",
        "        df.loc[len(df.index)] = new_empty_row\n",
        "      else:\n",
        "        for i in range(0, hit_num):\n",
        "          abstract = resd['response']['docs'][i][\"abstract\"]\n",
        "          lead_paragraph = resd['response']['docs'][i][\"lead_paragraph\"]\n",
        "          combined_text = abstract + \" \" + lead_paragraph\n",
        "          new_row = [state, years[year], quarters[quarter_iter], combined_text]\n",
        "          #print(new_row)\n",
        "          df.loc[len(df.index)] = new_row\n",
        "      print(state, years[year], quarters[quarter_iter])\n",
        "      time.sleep(12)\n",
        "\n",
        "df.to_csv('list4.csv', index=False)\n",
        "print(\"Done\")\n",
        "\n",
        "## 40 minutes to run\n",
        "## DOWNLOAD THE CSVs AND UPLOAD TO GITHUB SO YOU DON'T HAVE TO RUN IT AGAIN"
      ],
      "metadata": {
        "id": "NiI4TFpsias_"
      },
      "execution_count": null,
      "outputs": []
    },
    {
      "cell_type": "code",
      "source": [
        "## API Search Code 5\n",
        "df = pd.DataFrame({\"State\": [],\"Year\": [], \"Quarter\": [], \"Text\": []})\n",
        "\n",
        "for state in states1:\n",
        "  for year in range(0, len(year_strings)):\n",
        "    for quarter_iter in range(0, len(quarter_dates), 2):\n",
        "      pa={\"api-key\":apikey, \"q\":\"Health, \" + state, \"begin_date\":year_strings[year] + quarter_dates[quarter_iter], \"end_date\":year_strings[year] + quarter_dates[quarter_iter + 1], \"page\": 1}\n",
        "      url2check = baseurl + urllib.parse.urlencode(pa)\n",
        "      result = urllib.request.urlopen(url2check).read()\n",
        "      resd = json.loads(result)\n",
        "      if len(resd['response']['docs']) < 10:\n",
        "        hit_num = len(resd['response']['docs'])\n",
        "      else:\n",
        "        hit_num = 10\n",
        "\n",
        "      if hit_num == 0:\n",
        "        new_empty_row = [state, years[year], quarters[quarter_iter], \"\"]\n",
        "        #print(new_empty_row)\n",
        "        df.loc[len(df.index)] = new_empty_row\n",
        "      else:\n",
        "        for i in range(0, hit_num):\n",
        "          abstract = resd['response']['docs'][i][\"abstract\"]\n",
        "          lead_paragraph = resd['response']['docs'][i][\"lead_paragraph\"]\n",
        "          combined_text = abstract + \" \" + lead_paragraph\n",
        "          new_row = [state, years[year], quarters[quarter_iter], combined_text]\n",
        "          #print(new_row)\n",
        "          df.loc[len(df.index)] = new_row\n",
        "      print(state, years[year], quarters[quarter_iter])\n",
        "      time.sleep(12)\n",
        "\n",
        "df.to_csv('list5.csv', index=False)\n",
        "print(\"Done\")\n",
        "\n",
        "## 44 minutes to run (has an extra state to account for Washington D.C.)\n",
        "## DOWNLOAD THE CSVs AND UPLOAD TO GITHUB SO YOU DON'T HAVE TO RUN IT AGAIN"
      ],
      "metadata": {
        "id": "fJKHcTSLidaD"
      },
      "execution_count": null,
      "outputs": []
    }
  ],
  "metadata": {
    "colab": {
      "provenance": []
    },
    "kernelspec": {
      "display_name": "Python 3",
      "name": "python3"
    },
    "language_info": {
      "name": "python"
    }
  },
  "nbformat": 4,
  "nbformat_minor": 0
}